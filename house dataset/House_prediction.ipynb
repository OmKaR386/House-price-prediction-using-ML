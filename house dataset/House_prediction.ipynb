{
 "cells": [
  {
   "cell_type": "code",
   "execution_count": 4,
   "id": "c678ac4c-c775-49ca-8cf0-11d1e6290995",
   "metadata": {},
   "outputs": [],
   "source": [
    "#importing required libraries.\n",
    "import numpy as np \n",
    "import pandas as pd \n",
    "import matplotlib.pyplot as plt \n",
    "import seaborn as sns \n"
   ]
  },
  {
   "cell_type": "code",
   "execution_count": 5,
   "id": "db79a0ed-2b2b-49bc-9e70-c2232a18cb1c",
   "metadata": {},
   "outputs": [],
   "source": [
    "#Reading Dataset\n",
    "df=pd.read_csv(r\"house_price_regression_dataset.csv\")"
   ]
  },
  {
   "cell_type": "code",
   "execution_count": 6,
   "id": "882ae2ab-886e-4277-bfc7-c5c0c429eafb",
   "metadata": {},
   "outputs": [
    {
     "data": {
      "text/html": [
       "<div>\n",
       "<style scoped>\n",
       "    .dataframe tbody tr th:only-of-type {\n",
       "        vertical-align: middle;\n",
       "    }\n",
       "\n",
       "    .dataframe tbody tr th {\n",
       "        vertical-align: top;\n",
       "    }\n",
       "\n",
       "    .dataframe thead th {\n",
       "        text-align: right;\n",
       "    }\n",
       "</style>\n",
       "<table border=\"1\" class=\"dataframe\">\n",
       "  <thead>\n",
       "    <tr style=\"text-align: right;\">\n",
       "      <th></th>\n",
       "      <th>Square_Footage</th>\n",
       "      <th>Num_Bedrooms</th>\n",
       "      <th>Num_Bathrooms</th>\n",
       "      <th>Year_Built</th>\n",
       "      <th>Lot_Size</th>\n",
       "      <th>Garage_Size</th>\n",
       "      <th>Neighborhood_Quality</th>\n",
       "      <th>House_Price</th>\n",
       "    </tr>\n",
       "  </thead>\n",
       "  <tbody>\n",
       "    <tr>\n",
       "      <th>0</th>\n",
       "      <td>1360</td>\n",
       "      <td>2</td>\n",
       "      <td>1</td>\n",
       "      <td>1981</td>\n",
       "      <td>0.599637</td>\n",
       "      <td>0</td>\n",
       "      <td>5</td>\n",
       "      <td>2.623829e+05</td>\n",
       "    </tr>\n",
       "    <tr>\n",
       "      <th>1</th>\n",
       "      <td>4272</td>\n",
       "      <td>3</td>\n",
       "      <td>3</td>\n",
       "      <td>2016</td>\n",
       "      <td>4.753014</td>\n",
       "      <td>1</td>\n",
       "      <td>6</td>\n",
       "      <td>9.852609e+05</td>\n",
       "    </tr>\n",
       "    <tr>\n",
       "      <th>2</th>\n",
       "      <td>3592</td>\n",
       "      <td>1</td>\n",
       "      <td>2</td>\n",
       "      <td>2016</td>\n",
       "      <td>3.634823</td>\n",
       "      <td>0</td>\n",
       "      <td>9</td>\n",
       "      <td>7.779774e+05</td>\n",
       "    </tr>\n",
       "    <tr>\n",
       "      <th>3</th>\n",
       "      <td>966</td>\n",
       "      <td>1</td>\n",
       "      <td>2</td>\n",
       "      <td>1977</td>\n",
       "      <td>2.730667</td>\n",
       "      <td>1</td>\n",
       "      <td>8</td>\n",
       "      <td>2.296989e+05</td>\n",
       "    </tr>\n",
       "    <tr>\n",
       "      <th>4</th>\n",
       "      <td>4926</td>\n",
       "      <td>2</td>\n",
       "      <td>1</td>\n",
       "      <td>1993</td>\n",
       "      <td>4.699073</td>\n",
       "      <td>0</td>\n",
       "      <td>8</td>\n",
       "      <td>1.041741e+06</td>\n",
       "    </tr>\n",
       "  </tbody>\n",
       "</table>\n",
       "</div>"
      ],
      "text/plain": [
       "   Square_Footage  Num_Bedrooms  Num_Bathrooms  Year_Built  Lot_Size  \\\n",
       "0            1360             2              1        1981  0.599637   \n",
       "1            4272             3              3        2016  4.753014   \n",
       "2            3592             1              2        2016  3.634823   \n",
       "3             966             1              2        1977  2.730667   \n",
       "4            4926             2              1        1993  4.699073   \n",
       "\n",
       "   Garage_Size  Neighborhood_Quality   House_Price  \n",
       "0            0                     5  2.623829e+05  \n",
       "1            1                     6  9.852609e+05  \n",
       "2            0                     9  7.779774e+05  \n",
       "3            1                     8  2.296989e+05  \n",
       "4            0                     8  1.041741e+06  "
      ]
     },
     "execution_count": 6,
     "metadata": {},
     "output_type": "execute_result"
    }
   ],
   "source": [
    "df.head()\n"
   ]
  },
  {
   "cell_type": "code",
   "execution_count": 7,
   "id": "833b7fe5-9e73-4665-b426-5108847c0891",
   "metadata": {},
   "outputs": [
    {
     "name": "stdout",
     "output_type": "stream",
     "text": [
      "<class 'pandas.core.frame.DataFrame'>\n",
      "RangeIndex: 1000 entries, 0 to 999\n",
      "Data columns (total 8 columns):\n",
      " #   Column                Non-Null Count  Dtype  \n",
      "---  ------                --------------  -----  \n",
      " 0   Square_Footage        1000 non-null   int64  \n",
      " 1   Num_Bedrooms          1000 non-null   int64  \n",
      " 2   Num_Bathrooms         1000 non-null   int64  \n",
      " 3   Year_Built            1000 non-null   int64  \n",
      " 4   Lot_Size              1000 non-null   float64\n",
      " 5   Garage_Size           1000 non-null   int64  \n",
      " 6   Neighborhood_Quality  1000 non-null   int64  \n",
      " 7   House_Price           1000 non-null   float64\n",
      "dtypes: float64(2), int64(6)\n",
      "memory usage: 62.6 KB\n"
     ]
    }
   ],
   "source": [
    "#check any null values are there or not.\n",
    "df.info()"
   ]
  },
  {
   "cell_type": "code",
   "execution_count": 8,
   "id": "83d0df1b-01d4-48ec-99d8-44be98cffc8e",
   "metadata": {},
   "outputs": [],
   "source": [
    "#We delete some columns we dont required them.\n",
    "df.drop([\"Neighborhood_Quality\"],axis=1,inplace=True)"
   ]
  },
  {
   "cell_type": "code",
   "execution_count": 9,
   "id": "63e3920a-92f3-4656-bd2e-ce051dffd25a",
   "metadata": {},
   "outputs": [
    {
     "data": {
      "text/html": [
       "<div>\n",
       "<style scoped>\n",
       "    .dataframe tbody tr th:only-of-type {\n",
       "        vertical-align: middle;\n",
       "    }\n",
       "\n",
       "    .dataframe tbody tr th {\n",
       "        vertical-align: top;\n",
       "    }\n",
       "\n",
       "    .dataframe thead th {\n",
       "        text-align: right;\n",
       "    }\n",
       "</style>\n",
       "<table border=\"1\" class=\"dataframe\">\n",
       "  <thead>\n",
       "    <tr style=\"text-align: right;\">\n",
       "      <th></th>\n",
       "      <th>Square_Footage</th>\n",
       "      <th>Num_Bedrooms</th>\n",
       "      <th>Num_Bathrooms</th>\n",
       "      <th>Year_Built</th>\n",
       "      <th>Lot_Size</th>\n",
       "      <th>Garage_Size</th>\n",
       "      <th>House_Price</th>\n",
       "    </tr>\n",
       "  </thead>\n",
       "  <tbody>\n",
       "    <tr>\n",
       "      <th>0</th>\n",
       "      <td>1360</td>\n",
       "      <td>2</td>\n",
       "      <td>1</td>\n",
       "      <td>1981</td>\n",
       "      <td>0.599637</td>\n",
       "      <td>0</td>\n",
       "      <td>2.623829e+05</td>\n",
       "    </tr>\n",
       "    <tr>\n",
       "      <th>1</th>\n",
       "      <td>4272</td>\n",
       "      <td>3</td>\n",
       "      <td>3</td>\n",
       "      <td>2016</td>\n",
       "      <td>4.753014</td>\n",
       "      <td>1</td>\n",
       "      <td>9.852609e+05</td>\n",
       "    </tr>\n",
       "    <tr>\n",
       "      <th>2</th>\n",
       "      <td>3592</td>\n",
       "      <td>1</td>\n",
       "      <td>2</td>\n",
       "      <td>2016</td>\n",
       "      <td>3.634823</td>\n",
       "      <td>0</td>\n",
       "      <td>7.779774e+05</td>\n",
       "    </tr>\n",
       "    <tr>\n",
       "      <th>3</th>\n",
       "      <td>966</td>\n",
       "      <td>1</td>\n",
       "      <td>2</td>\n",
       "      <td>1977</td>\n",
       "      <td>2.730667</td>\n",
       "      <td>1</td>\n",
       "      <td>2.296989e+05</td>\n",
       "    </tr>\n",
       "    <tr>\n",
       "      <th>4</th>\n",
       "      <td>4926</td>\n",
       "      <td>2</td>\n",
       "      <td>1</td>\n",
       "      <td>1993</td>\n",
       "      <td>4.699073</td>\n",
       "      <td>0</td>\n",
       "      <td>1.041741e+06</td>\n",
       "    </tr>\n",
       "    <tr>\n",
       "      <th>...</th>\n",
       "      <td>...</td>\n",
       "      <td>...</td>\n",
       "      <td>...</td>\n",
       "      <td>...</td>\n",
       "      <td>...</td>\n",
       "      <td>...</td>\n",
       "      <td>...</td>\n",
       "    </tr>\n",
       "    <tr>\n",
       "      <th>995</th>\n",
       "      <td>3261</td>\n",
       "      <td>4</td>\n",
       "      <td>1</td>\n",
       "      <td>1978</td>\n",
       "      <td>2.165110</td>\n",
       "      <td>2</td>\n",
       "      <td>7.014940e+05</td>\n",
       "    </tr>\n",
       "    <tr>\n",
       "      <th>996</th>\n",
       "      <td>3179</td>\n",
       "      <td>1</td>\n",
       "      <td>2</td>\n",
       "      <td>1999</td>\n",
       "      <td>2.977123</td>\n",
       "      <td>1</td>\n",
       "      <td>6.837232e+05</td>\n",
       "    </tr>\n",
       "    <tr>\n",
       "      <th>997</th>\n",
       "      <td>2606</td>\n",
       "      <td>4</td>\n",
       "      <td>2</td>\n",
       "      <td>1962</td>\n",
       "      <td>4.055067</td>\n",
       "      <td>0</td>\n",
       "      <td>5.720240e+05</td>\n",
       "    </tr>\n",
       "    <tr>\n",
       "      <th>998</th>\n",
       "      <td>4723</td>\n",
       "      <td>5</td>\n",
       "      <td>2</td>\n",
       "      <td>1950</td>\n",
       "      <td>1.930921</td>\n",
       "      <td>0</td>\n",
       "      <td>9.648653e+05</td>\n",
       "    </tr>\n",
       "    <tr>\n",
       "      <th>999</th>\n",
       "      <td>3268</td>\n",
       "      <td>4</td>\n",
       "      <td>2</td>\n",
       "      <td>1983</td>\n",
       "      <td>3.108790</td>\n",
       "      <td>2</td>\n",
       "      <td>7.425993e+05</td>\n",
       "    </tr>\n",
       "  </tbody>\n",
       "</table>\n",
       "<p>1000 rows × 7 columns</p>\n",
       "</div>"
      ],
      "text/plain": [
       "     Square_Footage  Num_Bedrooms  Num_Bathrooms  Year_Built  Lot_Size  \\\n",
       "0              1360             2              1        1981  0.599637   \n",
       "1              4272             3              3        2016  4.753014   \n",
       "2              3592             1              2        2016  3.634823   \n",
       "3               966             1              2        1977  2.730667   \n",
       "4              4926             2              1        1993  4.699073   \n",
       "..              ...           ...            ...         ...       ...   \n",
       "995            3261             4              1        1978  2.165110   \n",
       "996            3179             1              2        1999  2.977123   \n",
       "997            2606             4              2        1962  4.055067   \n",
       "998            4723             5              2        1950  1.930921   \n",
       "999            3268             4              2        1983  3.108790   \n",
       "\n",
       "     Garage_Size   House_Price  \n",
       "0              0  2.623829e+05  \n",
       "1              1  9.852609e+05  \n",
       "2              0  7.779774e+05  \n",
       "3              1  2.296989e+05  \n",
       "4              0  1.041741e+06  \n",
       "..           ...           ...  \n",
       "995            2  7.014940e+05  \n",
       "996            1  6.837232e+05  \n",
       "997            0  5.720240e+05  \n",
       "998            0  9.648653e+05  \n",
       "999            2  7.425993e+05  \n",
       "\n",
       "[1000 rows x 7 columns]"
      ]
     },
     "execution_count": 9,
     "metadata": {},
     "output_type": "execute_result"
    }
   ],
   "source": [
    "df"
   ]
  },
  {
   "cell_type": "code",
   "execution_count": 226,
   "id": "243605e7-d7ea-4d0e-ad1e-db834b450420",
   "metadata": {},
   "outputs": [],
   "source": [
    "#assign Dependent and independent vazriables \n",
    "#independent Features\n",
    "x=df[[\"Square_Footage\",\"Num_Bedrooms\",\"Num_Bathrooms\",\"Year_Built\",\"Lot_Size\",\"Garage_Size\"]] \n",
    "#Dependent Features \n",
    "y=df[\"House_Price\"]\n"
   ]
  },
  {
   "cell_type": "code",
   "execution_count": 227,
   "id": "a6eda258-d5c6-45ea-85d4-e21145f45adf",
   "metadata": {},
   "outputs": [],
   "source": [
    "#Give traning and testing dataset and test_size\n",
    "from sklearn.model_selection import train_test_split "
   ]
  },
  {
   "cell_type": "code",
   "execution_count": 228,
   "id": "3218b86b-8295-4a93-900b-0aa7ef275de9",
   "metadata": {},
   "outputs": [],
   "source": [
    "x_train,x_test,y_train,y_test = train_test_split(x,y,test_size =0.3)"
   ]
  },
  {
   "cell_type": "code",
   "execution_count": 229,
   "id": "49235417-d989-46ee-8080-a1871cc4d4df",
   "metadata": {},
   "outputs": [],
   "source": [
    "#standarizing process \n",
    "from sklearn.preprocessing import StandardScaler \n",
    "scalar=StandardScaler()"
   ]
  },
  {
   "cell_type": "code",
   "execution_count": 230,
   "id": "3e1d118c-e9ce-46e0-96a7-729f51da3c10",
   "metadata": {},
   "outputs": [],
   "source": [
    "x_train=scalar.fit_transform(x_train)\n"
   ]
  },
  {
   "cell_type": "code",
   "execution_count": 231,
   "id": "cb684aaa-e77f-4684-8155-3720cd26101e",
   "metadata": {},
   "outputs": [],
   "source": [
    "x_test=scalar.transform(x_test)\n"
   ]
  },
  {
   "cell_type": "code",
   "execution_count": 232,
   "id": "8a1ad63b-114e-498d-8e07-12784416d6f2",
   "metadata": {},
   "outputs": [],
   "source": [
    "#importing model \n",
    "from sklearn.linear_model import LinearRegression\n",
    "#Doing the cross validation for findout best mean.It helps ensure that the model generalizes well to unseen data and does not overfit the training data.\n",
    "from sklearn.model_selection import cross_val_score"
   ]
  },
  {
   "cell_type": "code",
   "execution_count": 233,
   "id": "5a2b8f2d-a772-4911-a76d-a7d868d508f0",
   "metadata": {},
   "outputs": [
    {
     "data": {
      "text/html": [
       "<style>#sk-container-id-16 {color: black;}#sk-container-id-16 pre{padding: 0;}#sk-container-id-16 div.sk-toggleable {background-color: white;}#sk-container-id-16 label.sk-toggleable__label {cursor: pointer;display: block;width: 100%;margin-bottom: 0;padding: 0.3em;box-sizing: border-box;text-align: center;}#sk-container-id-16 label.sk-toggleable__label-arrow:before {content: \"▸\";float: left;margin-right: 0.25em;color: #696969;}#sk-container-id-16 label.sk-toggleable__label-arrow:hover:before {color: black;}#sk-container-id-16 div.sk-estimator:hover label.sk-toggleable__label-arrow:before {color: black;}#sk-container-id-16 div.sk-toggleable__content {max-height: 0;max-width: 0;overflow: hidden;text-align: left;background-color: #f0f8ff;}#sk-container-id-16 div.sk-toggleable__content pre {margin: 0.2em;color: black;border-radius: 0.25em;background-color: #f0f8ff;}#sk-container-id-16 input.sk-toggleable__control:checked~div.sk-toggleable__content {max-height: 200px;max-width: 100%;overflow: auto;}#sk-container-id-16 input.sk-toggleable__control:checked~label.sk-toggleable__label-arrow:before {content: \"▾\";}#sk-container-id-16 div.sk-estimator input.sk-toggleable__control:checked~label.sk-toggleable__label {background-color: #d4ebff;}#sk-container-id-16 div.sk-label input.sk-toggleable__control:checked~label.sk-toggleable__label {background-color: #d4ebff;}#sk-container-id-16 input.sk-hidden--visually {border: 0;clip: rect(1px 1px 1px 1px);clip: rect(1px, 1px, 1px, 1px);height: 1px;margin: -1px;overflow: hidden;padding: 0;position: absolute;width: 1px;}#sk-container-id-16 div.sk-estimator {font-family: monospace;background-color: #f0f8ff;border: 1px dotted black;border-radius: 0.25em;box-sizing: border-box;margin-bottom: 0.5em;}#sk-container-id-16 div.sk-estimator:hover {background-color: #d4ebff;}#sk-container-id-16 div.sk-parallel-item::after {content: \"\";width: 100%;border-bottom: 1px solid gray;flex-grow: 1;}#sk-container-id-16 div.sk-label:hover label.sk-toggleable__label {background-color: #d4ebff;}#sk-container-id-16 div.sk-serial::before {content: \"\";position: absolute;border-left: 1px solid gray;box-sizing: border-box;top: 0;bottom: 0;left: 50%;z-index: 0;}#sk-container-id-16 div.sk-serial {display: flex;flex-direction: column;align-items: center;background-color: white;padding-right: 0.2em;padding-left: 0.2em;position: relative;}#sk-container-id-16 div.sk-item {position: relative;z-index: 1;}#sk-container-id-16 div.sk-parallel {display: flex;align-items: stretch;justify-content: center;background-color: white;position: relative;}#sk-container-id-16 div.sk-item::before, #sk-container-id-16 div.sk-parallel-item::before {content: \"\";position: absolute;border-left: 1px solid gray;box-sizing: border-box;top: 0;bottom: 0;left: 50%;z-index: -1;}#sk-container-id-16 div.sk-parallel-item {display: flex;flex-direction: column;z-index: 1;position: relative;background-color: white;}#sk-container-id-16 div.sk-parallel-item:first-child::after {align-self: flex-end;width: 50%;}#sk-container-id-16 div.sk-parallel-item:last-child::after {align-self: flex-start;width: 50%;}#sk-container-id-16 div.sk-parallel-item:only-child::after {width: 0;}#sk-container-id-16 div.sk-dashed-wrapped {border: 1px dashed gray;margin: 0 0.4em 0.5em 0.4em;box-sizing: border-box;padding-bottom: 0.4em;background-color: white;}#sk-container-id-16 div.sk-label label {font-family: monospace;font-weight: bold;display: inline-block;line-height: 1.2em;}#sk-container-id-16 div.sk-label-container {text-align: center;}#sk-container-id-16 div.sk-container {/* jupyter's `normalize.less` sets `[hidden] { display: none; }` but bootstrap.min.css set `[hidden] { display: none !important; }` so we also need the `!important` here to be able to override the default hidden behavior on the sphinx rendered scikit-learn.org. See: https://github.com/scikit-learn/scikit-learn/issues/21755 */display: inline-block !important;position: relative;}#sk-container-id-16 div.sk-text-repr-fallback {display: none;}</style><div id=\"sk-container-id-16\" class=\"sk-top-container\"><div class=\"sk-text-repr-fallback\"><pre>LinearRegression()</pre><b>In a Jupyter environment, please rerun this cell to show the HTML representation or trust the notebook. <br />On GitHub, the HTML representation is unable to render, please try loading this page with nbviewer.org.</b></div><div class=\"sk-container\" hidden><div class=\"sk-item\"><div class=\"sk-estimator sk-toggleable\"><input class=\"sk-toggleable__control sk-hidden--visually\" id=\"sk-estimator-id-16\" type=\"checkbox\" checked><label for=\"sk-estimator-id-16\" class=\"sk-toggleable__label sk-toggleable__label-arrow\">LinearRegression</label><div class=\"sk-toggleable__content\"><pre>LinearRegression()</pre></div></div></div></div></div>"
      ],
      "text/plain": [
       "LinearRegression()"
      ]
     },
     "execution_count": 233,
     "metadata": {},
     "output_type": "execute_result"
    }
   ],
   "source": [
    "LIR=LinearRegression()\n",
    "LIR.fit(x_train,y_train)"
   ]
  },
  {
   "cell_type": "code",
   "execution_count": 234,
   "id": "7bb38c2e-a75e-4e7f-8dcc-cbea28dd734f",
   "metadata": {},
   "outputs": [
    {
     "data": {
      "text/plain": [
       "-102030475.9153386"
      ]
     },
     "execution_count": 234,
     "metadata": {},
     "output_type": "execute_result"
    }
   ],
   "source": [
    "\n",
    "mse=cross_val_score(LIR,x_train,y_train,scoring=\"neg_mean_squared_error\",cv=100)\n",
    "np.mean(mse)"
   ]
  },
  {
   "cell_type": "code",
   "execution_count": 235,
   "id": "b3aacadc-967f-4139-a1bd-1e336a95c3ca",
   "metadata": {},
   "outputs": [
    {
     "data": {
      "text/plain": [
       "array([ 799243.80814942,  895951.80195573,  703022.30167724,\n",
       "        726320.48804776,  337067.62968364,  760898.387711  ,\n",
       "        928230.64555391,  757831.73747   ,  644162.05965714,\n",
       "        461917.00254678,  757840.25167117,  568224.53133687,\n",
       "        262346.75227085,  539446.53568786,  540300.94605249,\n",
       "        315381.07981312,  164348.79982246,  477223.23875336,\n",
       "        357736.58553669,  921940.06259718,  496190.34068844,\n",
       "        465647.14759769,  453716.19963789,  541453.90161169,\n",
       "        442414.82028958,  780831.4657053 ,  980854.26648041,\n",
       "        981287.54723972,  812678.31681231,  818180.5383751 ,\n",
       "        730075.10322654,  187061.45423256,  783756.33941527,\n",
       "        760685.82769071,  323692.73581923,  860726.58611106,\n",
       "        994577.15285015,  889367.30519673,  613561.43532517,\n",
       "        455346.3487346 ,  759600.50626258,  672117.80823115,\n",
       "       1018721.68412754,  730538.99332988,  316033.57993342,\n",
       "        325889.31275938,  759281.69107259, 1009233.26126269,\n",
       "        302097.18403253,  739669.89762445,  492665.86407931,\n",
       "        798360.84189982,  969317.32099095,  593342.10994027,\n",
       "        401061.73352364,  548324.1297513 ,  215867.102988  ,\n",
       "        528577.11585656,  294259.15700217,  558916.18218374,\n",
       "        932817.6932867 ,  885231.01698419,  936908.57814945,\n",
       "        660158.98732923,  149786.4576953 ,  270430.55734167,\n",
       "        725509.04992004,  857795.62445712,  751324.50009235,\n",
       "        508652.13883151,  732227.86842203,  699952.76079694,\n",
       "        250320.61139238,  243896.82114836,  580325.96830067,\n",
       "        775362.28933859,  919181.14128085,  829436.29250933,\n",
       "        293216.7857633 ,  615243.17273151,  918696.82006514,\n",
       "        880976.58552666,  819803.59815542,  146263.08476401,\n",
       "        988219.96206305,  864090.95293375, 1058732.4831929 ,\n",
       "        794219.95521048,  844579.56938726,  283852.71801427,\n",
       "        396636.95284251,  386164.85931514,  224323.28767337,\n",
       "        627283.22773206,  896431.86440836,  429349.2465923 ,\n",
       "        505066.41888642,  595598.09760348,  947690.15750544,\n",
       "        417787.50725945,  629692.11374974,  371550.49355655,\n",
       "        929798.02070283,  340233.18584427,  911684.70223411,\n",
       "        214637.18183334,  292989.33668346,  753437.69706728,\n",
       "        490589.89877881,  272097.06731515,  279580.78054683,\n",
       "       1024065.47971227,  164104.34497351,  883475.70290203,\n",
       "        451815.94551756,  789358.86459694,  223950.09121988,\n",
       "        354634.53911494,  761988.13162716,  401015.26660843,\n",
       "        660860.63709398,  784527.26034939,  613567.13071208,\n",
       "       1026378.74632711,  217294.04083703,  901396.94459115,\n",
       "        255137.86102153,  708880.74895536,  218018.5790841 ,\n",
       "        149862.16063073,  376080.42825169,  404484.53945334,\n",
       "        648904.86267689,  626160.33513564,  576438.8754481 ,\n",
       "        503153.68604008,  662810.45536566, 1003250.22480796,\n",
       "        539424.50375488,  814331.43787443, 1029684.79821129,\n",
       "        519113.21604663,  770021.32732559, 1041222.63852015,\n",
       "        742868.48799941,  917026.74546031,  665251.29847307,\n",
       "        267854.29188872,  528777.57244808,  996580.46092189,\n",
       "        820275.01959711,  644621.59357598,  423196.96342729,\n",
       "        744692.73766569,  972053.07119207,  826829.92017927,\n",
       "        800616.28443999,  877820.38038228,  774560.34202735,\n",
       "        980900.32068399,  327861.34446065,  704176.92239334,\n",
       "        579252.2080844 , 1016978.86724771,  930650.10238733,\n",
       "        863216.1442738 ,  525583.93528695,  227026.75656648,\n",
       "        575501.0525555 ,  289148.12554005,  387577.22917856,\n",
       "        964074.5740533 ,  649410.16020138,  723810.70732254,\n",
       "        223210.47308884,  797033.69153599,  817826.64865186,\n",
       "        864998.38974175,  532091.2835691 ,  528486.09180313,\n",
       "        625432.44287381,  359418.53619346, 1013699.84551671,\n",
       "        290783.33380327,  281237.7330154 ,  351381.02224058,\n",
       "        343722.09552612,  727602.14448691,  238751.09184147,\n",
       "        239777.83765799,  621841.9292792 , 1031597.08231186,\n",
       "        770754.469589  ,  490550.59254393,  826360.11038458,\n",
       "        655663.63570119,  681922.90995162,  726912.53106838,\n",
       "        505852.21213881,  963230.38345326, 1099609.53528247,\n",
       "        503194.65224622,  701567.94878999,  544869.68464875,\n",
       "        820658.55638959,  303271.42235582,  134367.12904727,\n",
       "       1066710.6371875 ,  930330.45187226,  801923.95169025,\n",
       "        653923.14672976,  466266.36341842,  487122.67946734,\n",
       "        219845.27392183,  564763.7484296 ,  192487.97717247,\n",
       "        349333.93541184,  643946.37506831,  985769.53048474,\n",
       "        540519.15931568,  348879.29731611,  517308.35832749,\n",
       "        943109.62909726,  548608.96530615,  678465.04400897,\n",
       "        242310.1610135 ,  313554.2145058 ,  637867.979294  ,\n",
       "        597573.26867317,  435744.45153408,  412175.52286664,\n",
       "        774071.03589085,  495739.04203494,  756524.77956578,\n",
       "        746855.16927321,  796207.39220169, 1091424.77608934,\n",
       "        730984.28385712,  238478.10095274, 1068922.57818619,\n",
       "        850730.74045483,  575690.81493072,  230616.53926939,\n",
       "        967686.5114133 ,  623670.44913362,  785187.49482746,\n",
       "        474838.60900677,  811190.60460336, 1026462.59051835,\n",
       "        881110.97471095,  593928.84825698,  681184.03181601,\n",
       "        793967.59151344,  504260.12118165,  365329.63111411,\n",
       "        375322.6946858 ,  315025.58989099,  674255.69361189,\n",
       "        402876.82270479,  597337.82177381,  441570.47257768,\n",
       "        826809.18942602,  615561.89952507,  669203.72713628,\n",
       "       1011432.40653341,  305989.81451105,  364268.43245568,\n",
       "        436808.28610055,  715421.94974513,  513645.93243156,\n",
       "        963646.63500355,  951729.81840263,  273257.47465844,\n",
       "        478585.92989452,  741892.43468221,  287873.72330381,\n",
       "        180995.89755776,  476369.60371055,  117408.10535376,\n",
       "        509734.41083519,  677045.1954497 ,  520015.19385084,\n",
       "       1048217.29026756,  673828.33044706,  636907.23366854,\n",
       "        280271.87519447,  358651.30942624,  376860.86006586,\n",
       "        512411.04358066,  996292.99869125,  616827.90745078,\n",
       "        996335.69819242,  289805.0537777 ,  426865.31953746,\n",
       "        656710.33251802,  473245.45710426,  580377.10723986,\n",
       "        837086.5114515 ,  933570.10474232,  260906.22669581])"
      ]
     },
     "execution_count": 235,
     "metadata": {},
     "output_type": "execute_result"
    }
   ],
   "source": [
    "#predction \n",
    "reg_prediction=LIR.predict(x_test)\n",
    "reg_prediction"
   ]
  },
  {
   "cell_type": "code",
   "execution_count": 238,
   "id": "d959e6ea-2f39-41b5-9bb3-23a7ed6f4136",
   "metadata": {},
   "outputs": [
    {
     "name": "stderr",
     "output_type": "stream",
     "text": [
      "C:\\Users\\Omkar Kshirsagar\\.conda\\envs\\Myprojects\\lib\\site-packages\\seaborn\\axisgrid.py:123: UserWarning: The figure layout has changed to tight\n",
      "  self._figure.tight_layout(*args, **kwargs)\n"
     ]
    },
    {
     "data": {
      "image/png": "[encoded data removed]",
      "text/plain": [
       "<Figure size 500x500 with 1 Axes>"
      ]
     },
     "metadata": {},
     "output_type": "display_data"
    }
   ],
   "source": [
    "sns.displot(reg_prediction-y_test,kind=\"kde\")\n",
    "plt.show()"
   ]
  },
  {
   "cell_type": "code",
   "execution_count": null,
   "id": "1c623739-a11a-47b1-9585-14f6e9ef5255",
   "metadata": {},
   "outputs": [],
   "source": [
    "#As we can see above graph our predicted data is best for use for other house predctions most of ther data is lie centered around zero and display minimal skewness."
   ]
  }
 ],
 "metadata": {
  "kernelspec": {
   "display_name": "Python 3 (ipykernel)",
   "language": "python",
   "name": "python3"
  },
  "language_info": {
   "codemirror_mode": {
    "name": "ipython",
    "version": 3
   },
   "file_extension": ".py",
   "mimetype": "text/x-python",
   "name": "python",
   "nbconvert_exporter": "python",
   "pygments_lexer": "ipython3",
   "version": "3.8.20"
  }
 },
 "nbformat": 4,
 "nbformat_minor": 5
}
